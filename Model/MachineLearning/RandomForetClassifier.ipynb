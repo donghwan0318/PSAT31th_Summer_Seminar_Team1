{
 "cells": [
  {
   "cell_type": "code",
   "execution_count": 1,
   "metadata": {},
   "outputs": [],
   "source": [
    "import sys\n",
    "from os import path\n",
    "\n",
    "# Add Parent Directory to import utils Packages\n",
    "sys.path.append(path.dirname(path.abspath(path.dirname('.'))))"
   ]
  },
  {
   "cell_type": "code",
   "execution_count": 2,
   "metadata": {},
   "outputs": [],
   "source": [
    "# import custom utils functions\n",
    "from utils.seed import seed_everything\n",
    "from utils.score import custom_CostFunction, reportEvaluation\n",
    "from utils.score import GridSearch_CustomScorer"
   ]
  },
  {
   "cell_type": "code",
   "execution_count": 3,
   "metadata": {},
   "outputs": [],
   "source": [
    "import numpy as np\n",
    "pred = np.ones(shape = (32,))\n",
    "true = [1, 0]* 16"
   ]
  },
  {
   "cell_type": "code",
   "execution_count": 5,
   "metadata": {},
   "outputs": [
    {
     "name": "stdout",
     "output_type": "stream",
     "text": [
      "-Test Accuracy\n",
      "0.5\n",
      "-Test F1\n",
      "0.667\n",
      "-Test Custom Cost\n",
      "80\n",
      "-Test Custom Cost Scaled by numTest\n",
      "2.5\n",
      "-Confusion Matrix\n",
      "TP: 16\tFP: 16\n",
      "FN: 0\tTN: 0\n"
     ]
    }
   ],
   "source": [
    "# test\n",
    "seed_everything(31)\n",
    "custom_CostFunction(true, pred)\n",
    "reportEvaluation(true, pred, 'Test')\n",
    "custom_scorer = GridSearch_CustomScorer()"
   ]
  },
  {
   "cell_type": "code",
   "execution_count": null,
   "metadata": {},
   "outputs": [],
   "source": []
  },
  {
   "cell_type": "code",
   "execution_count": null,
   "metadata": {},
   "outputs": [],
   "source": []
  }
 ],
 "metadata": {
  "kernelspec": {
   "display_name": "base",
   "language": "python",
   "name": "python3"
  },
  "language_info": {
   "codemirror_mode": {
    "name": "ipython",
    "version": 3
   },
   "file_extension": ".py",
   "mimetype": "text/x-python",
   "name": "python",
   "nbconvert_exporter": "python",
   "pygments_lexer": "ipython3",
   "version": "3.9.13"
  },
  "orig_nbformat": 4
 },
 "nbformat": 4,
 "nbformat_minor": 2
}
